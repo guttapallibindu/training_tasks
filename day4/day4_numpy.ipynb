{
  "nbformat": 4,
  "nbformat_minor": 0,
  "metadata": {
    "colab": {
      "provenance": []
    },
    "kernelspec": {
      "name": "python3",
      "display_name": "Python 3"
    },
    "language_info": {
      "name": "python"
    }
  },
  "cells": [
    {
      "cell_type": "code",
      "execution_count": null,
      "metadata": {
        "colab": {
          "base_uri": "https://localhost:8080/"
        },
        "id": "cxkmFVW7KLA6",
        "outputId": "f829c98b-9ee0-4c79-a7d7-34dbe11060bf"
      },
      "outputs": [
        {
          "output_type": "stream",
          "name": "stdout",
          "text": [
            "1D array:\n",
            "[1 2 3]\n",
            "2D array:\n",
            "[[1 2]\n",
            " [3 4]]\n",
            "3D array:\n",
            "[[[1 2]\n",
            "  [3 4]]\n",
            "\n",
            " [[5 6]\n",
            "  [7 8]]]\n",
            "4D array:\n",
            "[[[[ 1  2]\n",
            "   [ 3  4]]\n",
            "\n",
            "  [[ 5  6]\n",
            "   [ 7  8]]]\n",
            "\n",
            "\n",
            " [[[ 9 10]\n",
            "   [11 12]]\n",
            "\n",
            "  [[13 14]\n",
            "   [15 16]]]]\n",
            "shape of 1d array (3,)\n",
            "shape of 2d array (2, 2)\n",
            "shape of 3d array (2, 2, 2)\n",
            "shape of 4d array (2, 2, 2, 2)\n",
            "dimesnsion of array 1 1\n",
            "dimesnsion of array 2 2\n",
            "dimesnsion of array 3 3\n",
            "dimesnsion of array 4 4\n"
          ]
        }
      ],
      "source": [
        "import numpy as np\n",
        "\n",
        "a = np.array([1,2,3]) #1d\n",
        "b = np.array([[1,2],[3,4]]) #2d\n",
        "c = np.array([[[1,2],[3,4]],[[5,6],[7,8]]]) #3d\n",
        "d = np.array([[[[1,2],[3,4]],[[5,6],[7,8]]],[[[9,10],[11,12]],[[13,14],[15,16]]]])\n",
        "\n",
        "print(\"1D array:\")\n",
        "print(a)\n",
        "print(\"2D array:\")\n",
        "print(b)\n",
        "print(\"3D array:\")\n",
        "print(c)\n",
        "print(\"4D array:\")\n",
        "print(d)\n",
        "\n",
        "print(\"shape of 1d array\" ,a.shape)\n",
        "print(\"shape of 2d array\" ,b.shape)\n",
        "print(\"shape of 3d array\" ,c.shape)\n",
        "print(\"shape of 4d array\" ,d.shape)\n",
        "print(\"dimesnsion of array 1\",a.ndim)\n",
        "print(\"dimesnsion of array 2\",b.ndim)\n",
        "print(\"dimesnsion of array 3\",c.ndim)\n",
        "print(\"dimesnsion of array 4\",d.ndim)\n"
      ]
    },
    {
      "cell_type": "code",
      "source": [
        "import numpy as np\n",
        "\n",
        "sales_data = np.array([\n",
        "    [100,200,150,300],\n",
        "    [100,500,410,324],\n",
        "    [230,540,890,450],\n",
        "    [789,360,452,120]\n",
        "])\n",
        "\n",
        "sales_data[2] #for acessing a row"
      ],
      "metadata": {
        "colab": {
          "base_uri": "https://localhost:8080/"
        },
        "id": "ERbnxSzXQZBy",
        "outputId": "f9627b02-5a77-4867-8e04-4f9aadcac048"
      },
      "execution_count": null,
      "outputs": [
        {
          "output_type": "execute_result",
          "data": {
            "text/plain": [
              "array([230, 540, 890, 450])"
            ]
          },
          "metadata": {},
          "execution_count": 13
        }
      ]
    },
    {
      "cell_type": "code",
      "source": [
        "sales_data[:,1] #: is for row means all rows and 1 is for column here we are taking 1 column value"
      ],
      "metadata": {
        "colab": {
          "base_uri": "https://localhost:8080/"
        },
        "id": "IuTA1EfmRqBo",
        "outputId": "06ffc5f6-8387-4539-8b48-5192c131b83a"
      },
      "execution_count": null,
      "outputs": [
        {
          "output_type": "execute_result",
          "data": {
            "text/plain": [
              "array([200, 500, 540, 360])"
            ]
          },
          "metadata": {},
          "execution_count": 14
        }
      ]
    },
    {
      "cell_type": "code",
      "source": [
        "sales_data[sales_data > 300] #all values in my array > 300"
      ],
      "metadata": {
        "colab": {
          "base_uri": "https://localhost:8080/"
        },
        "id": "GmBfatyuR1Jh",
        "outputId": "6a21cc88-e238-47e0-efca-3e3225431b19"
      },
      "execution_count": null,
      "outputs": [
        {
          "output_type": "execute_result",
          "data": {
            "text/plain": [
              "array([500, 410, 324, 540, 890, 450, 789, 360, 452])"
            ]
          },
          "metadata": {},
          "execution_count": 15
        }
      ]
    },
    {
      "cell_type": "code",
      "source": [
        "sales_data[[1,2],2] #[1,2] goes for rows and the other 2 is column\n",
        "#here we r acessing 2 column and 1 row and 2 row"
      ],
      "metadata": {
        "colab": {
          "base_uri": "https://localhost:8080/"
        },
        "id": "HfSccR3RSxrL",
        "outputId": "b9c6f6e8-4b97-479a-c5e6-7d7468962807"
      },
      "execution_count": null,
      "outputs": [
        {
          "output_type": "execute_result",
          "data": {
            "text/plain": [
              "array([410, 890])"
            ]
          },
          "metadata": {},
          "execution_count": 17
        }
      ]
    },
    {
      "cell_type": "code",
      "source": [
        "#broadcasting\n",
        "a = np.array([1,2,2])\n",
        "b = 5\n",
        "print(a+b)\n",
        "print(a[1] + b) #adding to index 1 element"
      ],
      "metadata": {
        "colab": {
          "base_uri": "https://localhost:8080/"
        },
        "id": "ijvjhxuHTjTt",
        "outputId": "09d6dbf9-81af-4423-e708-901298f42ef5"
      },
      "execution_count": null,
      "outputs": [
        {
          "output_type": "stream",
          "name": "stdout",
          "text": [
            "[6 7 7]\n",
            "7\n"
          ]
        }
      ]
    },
    {
      "cell_type": "code",
      "source": [
        "a = np.array([1,2,3])\n",
        "b = np.array([4,5,6])\n",
        "c = a + b\n",
        "print(c)\n"
      ],
      "metadata": {
        "colab": {
          "base_uri": "https://localhost:8080/"
        },
        "id": "mZIJ5nTfUhRg",
        "outputId": "0855163d-c984-4c72-a32e-c9c1feef2d54"
      },
      "execution_count": null,
      "outputs": [
        {
          "output_type": "stream",
          "name": "stdout",
          "text": [
            "[5 7 9]\n"
          ]
        }
      ]
    },
    {
      "cell_type": "code",
      "source": [
        "row1 = sales_data[0] #extracting teh first row\n",
        "print(row1)\n",
        "discount = row1 * 0.2 #and mutlyping it with 0.2\n",
        "print(discount) #in the o/p  . represents float values"
      ],
      "metadata": {
        "colab": {
          "base_uri": "https://localhost:8080/"
        },
        "id": "PUrROhE1U8Ft",
        "outputId": "0897fb3b-1970-4e67-e813-d78b75dde93a"
      },
      "execution_count": null,
      "outputs": [
        {
          "output_type": "stream",
          "name": "stdout",
          "text": [
            "[100 200 150 300]\n",
            "[20. 40. 30. 60.]\n"
          ]
        }
      ]
    },
    {
      "cell_type": "code",
      "source": [
        "cost = np.array([10,20,30,40])\n",
        "profit = (sales_data - cost)\n",
        "print(profit)"
      ],
      "metadata": {
        "colab": {
          "base_uri": "https://localhost:8080/"
        },
        "id": "bs5bq328VsdJ",
        "outputId": "4995444e-1533-4b56-841e-b01057bd6ad1"
      },
      "execution_count": null,
      "outputs": [
        {
          "output_type": "stream",
          "name": "stdout",
          "text": [
            "[[ 90 180 120 260]\n",
            " [ 90 480 380 284]\n",
            " [220 520 860 410]\n",
            " [779 340 422  80]]\n"
          ]
        }
      ]
    },
    {
      "cell_type": "code",
      "source": [
        "from numpy import *\n",
        "a =  ones([2,5],int) #here 2 rows of ones and 5 columns of ones and type is int\n",
        "print(a)"
      ],
      "metadata": {
        "colab": {
          "base_uri": "https://localhost:8080/"
        },
        "id": "oEEGb2htWEYp",
        "outputId": "926cf46f-f9fd-4855-d7d2-a99e00093275"
      },
      "execution_count": null,
      "outputs": [
        {
          "output_type": "stream",
          "name": "stdout",
          "text": [
            "[[1 1 1 1 1]\n",
            " [1 1 1 1 1]]\n"
          ]
        }
      ]
    },
    {
      "cell_type": "code",
      "source": [
        "array = np.array([10,4,6,8.5,9])\n",
        "\n",
        "print(sqrt(array))\n",
        "print(max(array))\n",
        "print(sort(array))\n",
        "print(mean(array))\n",
        "print(sin(array))\n"
      ],
      "metadata": {
        "colab": {
          "base_uri": "https://localhost:8080/"
        },
        "id": "7duIIgzMX_UK",
        "outputId": "8b39254c-989e-41b9-9743-563339c93825"
      },
      "execution_count": null,
      "outputs": [
        {
          "output_type": "stream",
          "name": "stdout",
          "text": [
            "[3.16227766 2.         2.44948974 2.91547595 3.        ]\n",
            "10.0\n",
            "[ 4.   6.   8.5  9.  10. ]\n",
            "7.5\n",
            "[-0.54402111 -0.7568025  -0.2794155   0.79848711  0.41211849]\n"
          ]
        }
      ]
    },
    {
      "cell_type": "code",
      "source": [
        "x = arange(0,21,2) #2o is exclusive\n",
        "print(x) #arange(start, stop , step )"
      ],
      "metadata": {
        "colab": {
          "base_uri": "https://localhost:8080/"
        },
        "id": "Kv7RgsARY-7G",
        "outputId": "6fc1f5e3-928c-4f95-c81b-270dc29b4fc7"
      },
      "execution_count": null,
      "outputs": [
        {
          "output_type": "stream",
          "name": "stdout",
          "text": [
            "[ 0  2  4  6  8 10 12 14 16 18 20]\n"
          ]
        }
      ]
    },
    {
      "cell_type": "code",
      "source": [
        "y = logspace(1,6,10) #returns log values\n",
        "print(y)"
      ],
      "metadata": {
        "colab": {
          "base_uri": "https://localhost:8080/"
        },
        "id": "mTJtsDrQZUHn",
        "outputId": "cb5c3c09-a268-4acd-cb7b-25a24e7fe36c"
      },
      "execution_count": null,
      "outputs": [
        {
          "output_type": "stream",
          "name": "stdout",
          "text": [
            "[1.00000000e+01 3.59381366e+01 1.29154967e+02 4.64158883e+02\n",
            " 1.66810054e+03 5.99484250e+03 2.15443469e+04 7.74263683e+04\n",
            " 2.78255940e+05 1.00000000e+06]\n"
          ]
        }
      ]
    },
    {
      "cell_type": "code",
      "source": [
        "#linspace() genrates random numbers\n",
        "import numpy as np\n",
        "a = linspace(1,10,8) #from 1 to 10 and gets only 10 numbers\n",
        "print(a)\n",
        "b = linspace(1,10) #from 1 to 10\n",
        "print(b)\n",
        "c = b[:8] #slicing the first 8 elements , [2:8] gives elements from 2 to 8\n",
        "print(c)"
      ],
      "metadata": {
        "colab": {
          "base_uri": "https://localhost:8080/"
        },
        "id": "xl1AaJgfaGfZ",
        "outputId": "a186a0c1-2ffa-4015-9602-9107f82cb5e2"
      },
      "execution_count": null,
      "outputs": [
        {
          "output_type": "stream",
          "name": "stdout",
          "text": [
            "[ 1.          2.28571429  3.57142857  4.85714286  6.14285714  7.42857143\n",
            "  8.71428571 10.        ]\n",
            "[ 1.          1.18367347  1.36734694  1.55102041  1.73469388  1.91836735\n",
            "  2.10204082  2.28571429  2.46938776  2.65306122  2.83673469  3.02040816\n",
            "  3.20408163  3.3877551   3.57142857  3.75510204  3.93877551  4.12244898\n",
            "  4.30612245  4.48979592  4.67346939  4.85714286  5.04081633  5.2244898\n",
            "  5.40816327  5.59183673  5.7755102   5.95918367  6.14285714  6.32653061\n",
            "  6.51020408  6.69387755  6.87755102  7.06122449  7.24489796  7.42857143\n",
            "  7.6122449   7.79591837  7.97959184  8.16326531  8.34693878  8.53061224\n",
            "  8.71428571  8.89795918  9.08163265  9.26530612  9.44897959  9.63265306\n",
            "  9.81632653 10.        ]\n",
            "[1.         1.18367347 1.36734694 1.55102041 1.73469388 1.91836735\n",
            " 2.10204082 2.28571429]\n"
          ]
        }
      ]
    },
    {
      "cell_type": "code",
      "source": [
        "#reshaping the array\n",
        "a = np.array([1,2,3,4])\n",
        "a = a.reshape(2,2)\n",
        "print(a)\n",
        "\n",
        "b = np.array([1,2,3,4,5,6,7,8])\n",
        "b = b.reshape(2,2,2)\n",
        "print(b)"
      ],
      "metadata": {
        "colab": {
          "base_uri": "https://localhost:8080/"
        },
        "id": "pLDPHVOgbpgR",
        "outputId": "ab5e5bb9-f9de-430a-fc6d-f3eb33145fee"
      },
      "execution_count": null,
      "outputs": [
        {
          "output_type": "stream",
          "name": "stdout",
          "text": [
            "[[1 2]\n",
            " [3 4]]\n",
            "[[[1 2]\n",
            "  [3 4]]\n",
            "\n",
            " [[5 6]\n",
            "  [7 8]]]\n"
          ]
        }
      ]
    },
    {
      "cell_type": "code",
      "source": [
        "import numpy as np\n",
        "a = np.arange(-2,6,1)\n",
        "b = a.reshape(2,4)\n",
        "print(\"array of a :\\n\" ,a)\n",
        "print(\"\\narray b :\\n\" ,b)\n",
        "print(\"\\nsum of array b      = \",sum(b))\n",
        "print(\"length of array b   = \",size(b))\n",
        "print(\"avearage of b       = \",average(b))\n",
        "a[a < 0]"
      ],
      "metadata": {
        "colab": {
          "base_uri": "https://localhost:8080/"
        },
        "id": "Yj_PtK7GfpVQ",
        "outputId": "f119e916-5303-4829-f072-31bf07b6646a"
      },
      "execution_count": null,
      "outputs": [
        {
          "output_type": "stream",
          "name": "stdout",
          "text": [
            "array of a :\n",
            " [-2 -1  0  1  2  3  4  5]\n",
            "\n",
            "array b :\n",
            " [[-2 -1  0  1]\n",
            " [ 2  3  4  5]]\n",
            "\n",
            "sum of array b      =  12\n",
            "length of array b   =  8\n",
            "avearage of b       =  1.5\n"
          ]
        },
        {
          "output_type": "execute_result",
          "data": {
            "text/plain": [
              "array([-2, -1])"
            ]
          },
          "metadata": {},
          "execution_count": 87
        }
      ]
    },
    {
      "cell_type": "code",
      "source": [
        "import numpy as np\n",
        "a = np.array([[1,2],[3,4],[4,6],[7,8]])\n",
        "a"
      ],
      "metadata": {
        "colab": {
          "base_uri": "https://localhost:8080/"
        },
        "id": "-n4dnYEiVJcT",
        "outputId": "257b4dff-26ff-4661-9045-68dfb75a4191"
      },
      "execution_count": null,
      "outputs": [
        {
          "output_type": "execute_result",
          "data": {
            "text/plain": [
              "array([[1, 2],\n",
              "       [3, 4],\n",
              "       [4, 6],\n",
              "       [7, 8]])"
            ]
          },
          "metadata": {},
          "execution_count": 4
        }
      ]
    }
  ]
}